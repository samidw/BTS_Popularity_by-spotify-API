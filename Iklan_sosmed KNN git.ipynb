{
 "cells": [
  {
   "cell_type": "markdown",
   "id": "d5ea0ece",
   "metadata": {},
   "source": [
    "## Model Machine Learning Beli barang atau tidak dari data iklan sosmend dengan KNN\n",
    "\n"
   ]
  },
  {
   "cell_type": "code",
   "execution_count": 19,
   "id": "a3fd1f97-15cc-4711-840a-a7662076ba14",
   "metadata": {},
   "outputs": [],
   "source": [
    "import pandas as pd\n",
    "import numpy as np\n",
    "import matplotlib.pyplot as plt\n",
    "\n",
    "from sklearn.metrics import classification_report, confusion_matrix\n",
    "from sklearn.metrics import accuracy_score\n",
    "from sklearn.model_selection import train_test_split\n",
    "from sklearn.preprocessing import StandardScaler\n",
    "from sklearn.neighbors import KNeighborsClassifier\n",
    "from sklearn import preprocessing\n",
    "\n"
   ]
  },
  {
   "cell_type": "code",
   "execution_count": 20,
   "id": "2f97a8b1-16b9-434a-b1d7-8b548f9608f2",
   "metadata": {},
   "outputs": [],
   "source": [
    "data=pd.read_csv('https://raw.githubusercontent.com/ardhiraka/PFDS_sources/0cc66161f5812e330914ac2667a5a60cdf08c3cc/Iklan_sosmed.csv')\n",
    "# data.info()\n",
    "# data.describe()\n",
    "col=['Usia','Kelamin','EstimasiGaji','Beli']\n",
    "newData=data [col]\n",
    "\n",
    "\n"
   ]
  },
  {
   "cell_type": "code",
   "execution_count": 21,
   "id": "5ffc01cf-39bd-4158-b3da-d46d7104a7cb",
   "metadata": {},
   "outputs": [],
   "source": [
    "le = preprocessing.LabelEncoder()\n",
    "sex_encoded = le.fit_transform(newData['Kelamin'])\n",
    "newData['Sex'] = sex_encoded\n",
    "\n",
    "col_x = ['Usia','Sex','EstimasiGaji']\n",
    "col_y = ['Beli']\n",
    "x = newData[col_x]\n",
    "y =  np.array(newData[col_y]).reshape(-1,1)\n"
   ]
  },
  {
   "cell_type": "code",
   "execution_count": 22,
   "id": "4ebd9355",
   "metadata": {},
   "outputs": [
    {
     "name": "stderr",
     "output_type": "stream",
     "text": [
      "C:\\Users\\Dimas\\AppData\\Local\\Programs\\Python\\Python310\\lib\\site-packages\\sklearn\\neighbors\\_classification.py:198: DataConversionWarning: A column-vector y was passed when a 1d array was expected. Please change the shape of y to (n_samples,), for example using ravel().\n",
      "  return self._fit(X, y)\n"
     ]
    }
   ],
   "source": [
    "#Create KNN Classifier\n",
    "knn = KNeighborsClassifier(n_neighbors=30)\n",
    "\n",
    "#Train the model using the training sets\n",
    "knn.fit(x, y)\n",
    "\n",
    "#Predict the response for test dataset\n",
    "y_pred = knn.predict(x)"
   ]
  },
  {
   "cell_type": "markdown",
   "id": "656caa0c",
   "metadata": {},
   "source": [
    "##<p>hasil machine learning pada kolom label</p>"
   ]
  },
  {
   "cell_type": "code",
   "execution_count": 23,
   "id": "334a067f",
   "metadata": {},
   "outputs": [
    {
     "data": {
      "text/html": [
       "<div>\n",
       "<style scoped>\n",
       "    .dataframe tbody tr th:only-of-type {\n",
       "        vertical-align: middle;\n",
       "    }\n",
       "\n",
       "    .dataframe tbody tr th {\n",
       "        vertical-align: top;\n",
       "    }\n",
       "\n",
       "    .dataframe thead th {\n",
       "        text-align: right;\n",
       "    }\n",
       "</style>\n",
       "<table border=\"1\" class=\"dataframe\">\n",
       "  <thead>\n",
       "    <tr style=\"text-align: right;\">\n",
       "      <th></th>\n",
       "      <th>Usia</th>\n",
       "      <th>Kelamin</th>\n",
       "      <th>EstimasiGaji</th>\n",
       "      <th>Beli</th>\n",
       "      <th>label</th>\n",
       "    </tr>\n",
       "  </thead>\n",
       "  <tbody>\n",
       "    <tr>\n",
       "      <th>0</th>\n",
       "      <td>19</td>\n",
       "      <td>Laki</td>\n",
       "      <td>19000</td>\n",
       "      <td>0</td>\n",
       "      <td>0</td>\n",
       "    </tr>\n",
       "    <tr>\n",
       "      <th>1</th>\n",
       "      <td>35</td>\n",
       "      <td>Laki</td>\n",
       "      <td>20000</td>\n",
       "      <td>0</td>\n",
       "      <td>0</td>\n",
       "    </tr>\n",
       "    <tr>\n",
       "      <th>2</th>\n",
       "      <td>26</td>\n",
       "      <td>Perempuan</td>\n",
       "      <td>43000</td>\n",
       "      <td>0</td>\n",
       "      <td>0</td>\n",
       "    </tr>\n",
       "    <tr>\n",
       "      <th>3</th>\n",
       "      <td>27</td>\n",
       "      <td>Perempuan</td>\n",
       "      <td>57000</td>\n",
       "      <td>0</td>\n",
       "      <td>0</td>\n",
       "    </tr>\n",
       "    <tr>\n",
       "      <th>4</th>\n",
       "      <td>19</td>\n",
       "      <td>Laki</td>\n",
       "      <td>76000</td>\n",
       "      <td>0</td>\n",
       "      <td>0</td>\n",
       "    </tr>\n",
       "    <tr>\n",
       "      <th>...</th>\n",
       "      <td>...</td>\n",
       "      <td>...</td>\n",
       "      <td>...</td>\n",
       "      <td>...</td>\n",
       "      <td>...</td>\n",
       "    </tr>\n",
       "    <tr>\n",
       "      <th>395</th>\n",
       "      <td>46</td>\n",
       "      <td>Perempuan</td>\n",
       "      <td>41000</td>\n",
       "      <td>1</td>\n",
       "      <td>0</td>\n",
       "    </tr>\n",
       "    <tr>\n",
       "      <th>396</th>\n",
       "      <td>51</td>\n",
       "      <td>Laki</td>\n",
       "      <td>23000</td>\n",
       "      <td>1</td>\n",
       "      <td>0</td>\n",
       "    </tr>\n",
       "    <tr>\n",
       "      <th>397</th>\n",
       "      <td>50</td>\n",
       "      <td>Perempuan</td>\n",
       "      <td>20000</td>\n",
       "      <td>1</td>\n",
       "      <td>0</td>\n",
       "    </tr>\n",
       "    <tr>\n",
       "      <th>398</th>\n",
       "      <td>36</td>\n",
       "      <td>Laki</td>\n",
       "      <td>33000</td>\n",
       "      <td>0</td>\n",
       "      <td>0</td>\n",
       "    </tr>\n",
       "    <tr>\n",
       "      <th>399</th>\n",
       "      <td>49</td>\n",
       "      <td>Perempuan</td>\n",
       "      <td>36000</td>\n",
       "      <td>1</td>\n",
       "      <td>1</td>\n",
       "    </tr>\n",
       "  </tbody>\n",
       "</table>\n",
       "<p>400 rows × 5 columns</p>\n",
       "</div>"
      ],
      "text/plain": [
       "     Usia    Kelamin  EstimasiGaji  Beli  label\n",
       "0      19       Laki         19000     0      0\n",
       "1      35       Laki         20000     0      0\n",
       "2      26  Perempuan         43000     0      0\n",
       "3      27  Perempuan         57000     0      0\n",
       "4      19       Laki         76000     0      0\n",
       "..    ...        ...           ...   ...    ...\n",
       "395    46  Perempuan         41000     1      0\n",
       "396    51       Laki         23000     1      0\n",
       "397    50  Perempuan         20000     1      0\n",
       "398    36       Laki         33000     0      0\n",
       "399    49  Perempuan         36000     1      1\n",
       "\n",
       "[400 rows x 5 columns]"
      ]
     },
     "execution_count": 23,
     "metadata": {},
     "output_type": "execute_result"
    }
   ],
   "source": [
    "# usia = pd.DataFrame(x['Usia'])\n",
    "# sex = pd.DataFrame(x['Sex'])\n",
    "# gaji = pd.DataFrame(x['EstimasiGaji'])\n",
    "\n",
    "df_label = pd.DataFrame(y_pred)\n",
    "\n",
    "vN=newData.drop(columns='Sex')\n",
    "vN['label']=df_label\n",
    "\n",
    "vN\n",
    "\n"
   ]
  },
  {
   "cell_type": "code",
   "execution_count": 24,
   "id": "75b3b2b9",
   "metadata": {},
   "outputs": [
    {
     "name": "stdout",
     "output_type": "stream",
     "text": [
      "sucess\n"
     ]
    }
   ],
   "source": [
    "vN.to_excel('beli.xlsx')\n",
    "print('sucess')"
   ]
  }
 ],
 "metadata": {
  "kernelspec": {
   "display_name": "Python 3 (ipykernel)",
   "language": "python",
   "name": "python3"
  },
  "language_info": {
   "codemirror_mode": {
    "name": "ipython",
    "version": 3
   },
   "file_extension": ".py",
   "mimetype": "text/x-python",
   "name": "python",
   "nbconvert_exporter": "python",
   "pygments_lexer": "ipython3",
   "version": "3.10.6"
  },
  "toc-autonumbering": true,
  "toc-showcode": true
 },
 "nbformat": 4,
 "nbformat_minor": 5
}
